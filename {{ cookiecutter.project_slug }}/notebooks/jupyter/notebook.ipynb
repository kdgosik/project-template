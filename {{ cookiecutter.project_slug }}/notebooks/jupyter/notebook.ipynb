{
 "cells": [
  {
   "cell_type": "markdown",
   "metadata": {},
   "source": [
    "# Outlier Bio notebook template\n",
    "\n",
    "Analysis notebooks are the central component of an analysis project and are the main deliverable for a project. Delete these instructions and replace with your own documentation, code, figures, and tables.\n",
    "\n",
    "\n",
    "## Project guidelines\n",
    "- Use this notebook (`./notebook.ipynb`) as your landing page, and delete any other notebook stubs, such as `notebook.Rmd`. Supplementary material (such as external websites, additional notebooks, or figures) are allowed but must have a link from this page.\n",
    "- Keep the analysis self-contained by adding dependencies to the Dockerfile.\n",
    "- Save raw data in `./data` and processed data or figures in `./results`. Use [git lfs](https://git-lfs.github.com/) to track large files instead of adding to the git repo\n",
    "- Use calls to data APIs instead of batch downloads when possible\n"
   ]
  },
  {
   "cell_type": "code",
   "execution_count": null,
   "metadata": {
    "collapsed": true
   },
   "outputs": [],
   "source": []
  }
 ],
 "metadata": {
  "kernelspec": {
   "display_name": "Python 2",
   "language": "python",
   "name": "python2"
  },
  "language_info": {
   "codemirror_mode": {
    "name": "ipython",
    "version": 2
   },
   "file_extension": ".py",
   "mimetype": "text/x-python",
   "name": "python",
   "nbconvert_exporter": "python",
   "pygments_lexer": "ipython2",
   "version": "2.7.10"
  }
 },
 "nbformat": 4,
 "nbformat_minor": 0
}
